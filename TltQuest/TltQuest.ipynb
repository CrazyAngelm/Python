{
 "cells": [
  {
   "cell_type": "code",
   "execution_count": 97,
   "metadata": {},
   "outputs": [],
   "source": [
    "import random as rand"
   ]
  },
  {
   "cell_type": "code",
   "execution_count": 102,
   "metadata": {},
   "outputs": [],
   "source": [
    "class Gem:\n",
    "    def __init__(self, cost, count, chance):\n",
    "        self.cost = cost\n",
    "        self.count = count\n",
    "        self.chance = chance\n",
    "        pass\n",
    "\n",
    "    def GetCostGems(self):\n",
    "        count_gem = rand.randint(self.count[0], self.count[1])\n",
    "        return count_gem * self.cost\n",
    "\n",
    "class Bag:\n",
    "    def __init__(self, chance):\n",
    "        self.chance = chance\n",
    "        self.get_bag = False\n",
    "        self.Granat = Gem(1, [3, 7], 0.8)\n",
    "        self.Saphir = Gem(10, [1, 5], 0.15)\n",
    "        self.Izumrud = Gem(100, [1, 1], 0.05)\n",
    "        pass\n",
    "\n",
    "    def GetBag(self):\n",
    "        chance_bag = rand.random()\n",
    "        self.get_bag = chance_bag <= self.chance\n",
    "        return ([self.get_bag, chance_bag])\n",
    "\n",
    "    def GetGem(self):\n",
    "        if (self.get_bag == True):\n",
    "            rand_gem = rand.random()\n",
    "            if(rand_gem <= 0.05):\n",
    "                return self.Izumrud\n",
    "            elif(rand_gem <= 0.20):\n",
    "                return self.Saphir\n",
    "            else:\n",
    "                return self.Granat\n",
    "        return Gem(0, [1, 1], 0)\n"
   ]
  },
  {
   "cell_type": "code",
   "execution_count": 108,
   "metadata": {},
   "outputs": [
    {
     "name": "stdout",
     "output_type": "stream",
     "text": [
      "1.02792\n"
     ]
    }
   ],
   "source": [
    "Coin = 0\n",
    "Repair = 3\n",
    "\n",
    "bag = Bag(0.296)\n",
    "\n",
    "iteration = 100000\n",
    "\n",
    "for i in range(iteration):\n",
    "    bag.GetBag()\n",
    "    rand_gem = bag.GetGem().GetCostGems()\n",
    "    Coin += rand_gem - Repair\n",
    "\n",
    "print(Coin/iteration)"
   ]
  }
 ],
 "metadata": {
  "interpreter": {
   "hash": "cec27948dcff3512966d8727d65d41895fb717b60daf6d985b2203f03d96032e"
  },
  "kernelspec": {
   "display_name": "Python 3.9.9 64-bit",
   "language": "python",
   "name": "python3"
  },
  "language_info": {
   "codemirror_mode": {
    "name": "ipython",
    "version": 3
   },
   "file_extension": ".py",
   "mimetype": "text/x-python",
   "name": "python",
   "nbconvert_exporter": "python",
   "pygments_lexer": "ipython3",
   "version": "3.9.9"
  },
  "orig_nbformat": 4
 },
 "nbformat": 4,
 "nbformat_minor": 2
}
